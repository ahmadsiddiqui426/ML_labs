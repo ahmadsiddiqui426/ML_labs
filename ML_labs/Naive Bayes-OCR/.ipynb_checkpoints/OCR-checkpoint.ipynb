{
 "cells": [
  {
   "cell_type": "markdown",
   "metadata": {},
   "source": [
    "# OCR SYSTEM"
   ]
  },
  {
   "cell_type": "markdown",
   "metadata": {},
   "source": [
    "#### Import Libraries"
   ]
  },
  {
   "cell_type": "code",
   "execution_count": 7,
   "metadata": {},
   "outputs": [],
   "source": [
    "%matplotlib inline\n",
    "import numpy as np\n",
    "from matplotlib import pyplot as plt\n",
    "import pandas as pd"
   ]
  },
  {
   "cell_type": "markdown",
   "metadata": {},
   "source": [
    "#### Import sample images"
   ]
  },
  {
   "cell_type": "code",
   "execution_count": 8,
   "metadata": {},
   "outputs": [
    {
     "data": {
      "image/png": "[encoded data removed]",
      "text/plain": [
       "<Figure size 432x288 with 2 Axes>"
      ]
     },
     "metadata": {
      "needs_background": "light"
     },
     "output_type": "display_data"
    }
   ],
   "source": [
    "img2=np.array([0,0,0,0,0,0,0,0,0,0,0,0,0,0,0,0,0,0,1,1,1,0,0,0,0,0,0,0,0,0,0,0,0,1,1,0,0,0,0,0,0,0,0,\n",
    "0,0,1,0,0,1,0,0,0,0,0,0,0,0,0,0,0,1,1,0,0,1,0,0,0,0,0,0,0,0,0,0,0,1,1,0,0,1,0,0,0,0,0,0,0,0,0,0,0,1,\n",
    "1,1,0,1,0,0,0,0,0,0,0,0,0,0,1,1,0,1,0,1,0,0,0,0,0,0,0,0,0,0,1,0,0,1,0,1,0,0,0,0,0,0,0,0,0,1,0,0,0,1,\n",
    "0,1,1,1,1,1,1,1,1,1,1,1,0,0,0,1,1,0,0,0,0,0,0,0,0,0,0,0,0,0,0,0,1,0,0,0,0,0,0,0,0,0,0,0,0,0,0,0,1,0,\n",
    "0,0,0,0,0,0,0,0,0,0,0,0,0,0,1,0,0,0,0,0,0,0,0,0,0,0,0,0,0,0,1,0,0,0,0,0,0,0,0,0,0,0,0,0,0,0,1,0,0,0,\n",
    "0,0,0,0,0,0,0,0,0,0,0,0,0],dtype=np.uint8)\n",
    "\n",
    "img4=np.array([0,0,0,0,0,0,0,0,0,0,0,0,0,0,0,0,0,0,0,0,0,0,0,0,0,0,0,0,0,0,0,0,0,0,0,0,0,0,0,1,0,0,0,\n",
    "0,0,0,0,0,1,1,1,1,1,1,1,1,0,0,0,0,0,0,0,0,0,0,0,0,0,0,0,1,0,0,0,0,0,0,0,1,0,0,0,0,0,0,0,1,0,0,0,0,0,\n",
    "1,1,1,0,0,0,0,0,0,1,0,0,0,1,1,1,0,0,0,0,0,0,0,0,0,1,0,0,1,1,0,0,0,0,0,0,0,0,0,0,0,1,1,1,0,0,0,0,0,0,\n",
    "0,0,1,1,1,1,1,1,0,0,0,0,0,0,0,0,0,1,1,0,0,0,1,0,0,0,0,0,0,0,0,0,0,0,0,0,0,0,1,0,0,0,0,0,0,0,0,0,0,0,\n",
    "0,0,0,1,1,0,0,0,0,0,0,0,0,0,0,0,0,0,0,0,1,0,0,0,0,0,0,0,0,0,0,0,0,0,0,0,0,0,0,0,0,0,0,0,0,0,0,0,0,0,\n",
    "0,0,0,0,0,0,0,0,0,0,0,0,0],dtype=np.uint8)\n",
    "\n",
    "img = np.reshape(img4,(16,16),order= 'F')\n",
    "img1 = np.reshape(img2,(16,16),order= 'F')\n",
    "\n",
    "fig, axes = plt.subplots(1, 2)\n",
    "axes[0].imshow(img)\n",
    "axes[0].set_title('Image of 4')\n",
    "axes[1].imshow(img1)\n",
    "axes[1].set_title('Image of 2')\n",
    "\n",
    "plt.tight_layout()\n",
    "\n",
    "plt.show()"
   ]
  },
  {
   "cell_type": "markdown",
   "metadata": {},
   "source": [
    "## Import Data from the Files"
   ]
  },
  {
   "cell_type": "markdown",
   "metadata": {},
   "source": [
    "#### Training Data"
   ]
  },
  {
   "cell_type": "code",
   "execution_count": 9,
   "metadata": {},
   "outputs": [
    {
     "name": "stdout",
     "output_type": "stream",
     "text": [
      "Shape of X_train: (500, 256)\n",
      "Shape of y_train: (500,)\n"
     ]
    }
   ],
   "source": [
    "#Your code here\n",
    "X_train = np.loadtxt('trainX.txt')\n",
    "y_train = np.loadtxt('trainY.txt')\n",
    "print(\"Shape of X_train:\", X_train.shape)\n",
    "print(\"Shape of y_train:\", y_train.shape)"
   ]
  },
  {
   "cell_type": "markdown",
   "metadata": {},
   "source": [
    "Expected Output <br>\n",
    "- Shape of X_train : (500, 256) <br>\n",
    "- Shape of y_train : (500,)"
   ]
  },
  {
   "cell_type": "markdown",
   "metadata": {},
   "source": [
    "### Testing Data"
   ]
  },
  {
   "cell_type": "code",
   "execution_count": 10,
   "metadata": {},
   "outputs": [
    {
     "name": "stdout",
     "output_type": "stream",
     "text": [
      "Shape of X_test: (100, 256)\n",
      "Shape of y_test: (100,)\n"
     ]
    }
   ],
   "source": [
    "#Your code here\n",
    "X_test = np.loadtxt('testX.txt')\n",
    "y_test = np.loadtxt('testY.txt')\n",
    "print(\"Shape of X_test:\", X_test.shape)\n",
    "print(\"Shape of y_test:\", y_test.shape)"
   ]
  },
  {
   "cell_type": "markdown",
   "metadata": {},
   "source": [
    "Expected Output <br>\n",
    "- Shape of X_train : (100, 256) <br>\n",
    "- Shape of y_train : (100,)\n"
   ]
  },
  {
   "cell_type": "markdown",
   "metadata": {},
   "source": [
    "### Dividing Data W.R.T its Classes"
   ]
  },
  {
   "cell_type": "markdown",
   "metadata": {},
   "source": [
    "##### Training Data"
   ]
  },
  {
   "cell_type": "code",
   "execution_count": 11,
   "metadata": {},
   "outputs": [
    {
     "name": "stdout",
     "output_type": "stream",
     "text": [
      "[[0. 0. 0. ... 0. 0. 0.]\n",
      " [0. 0. 0. ... 0. 0. 0.]\n",
      " [0. 0. 0. ... 0. 0. 1.]\n",
      " ...\n",
      " [0. 0. 1. ... 0. 0. 1.]\n",
      " [0. 0. 0. ... 0. 0. 0.]\n",
      " [0. 0. 0. ... 0. 0. 0.]]\n",
      "[[0. 0. 0. ... 0. 0. 0.]\n",
      " [0. 0. 0. ... 0. 0. 0.]\n",
      " [0. 0. 0. ... 0. 0. 0.]\n",
      " ...\n",
      " [0. 0. 0. ... 0. 0. 0.]\n",
      " [0. 0. 0. ... 0. 0. 0.]\n",
      " [0. 0. 0. ... 0. 0. 0.]]\n"
     ]
    }
   ],
   "source": [
    "#AS we know first 250 images are of 2 so we will take first 250 images from X_train\n",
    "#your code here\n",
    "img2_X_train =X_train[:250] \n",
    "img4_X_train =X_train[250:500]\n",
    "print(img2_X_train)\n",
    "print(img4_X_train)"
   ]
  },
  {
   "cell_type": "markdown",
   "metadata": {},
   "source": [
    "##### Another way\n",
    "You can coment the below code if you dont want to try this effective way and will use the above code to divide the data into classes"
   ]
  },
  {
   "cell_type": "code",
   "execution_count": 14,
   "metadata": {},
   "outputs": [
    {
     "name": "stdout",
     "output_type": "stream",
     "text": [
      "Shape of X_train : (250, 256)\n",
      "Shape of y_train : (250, 256)\n"
     ]
    }
   ],
   "source": [
    "#But in case if we didn't know that first 250 images are of 2 then we can use this code\n",
    "#This img2_X_train will contain only only those images from X_train which have corespondong label of 2 in Y_train\n",
    "img2_X_train = X_train[np.where(y_train == 2)[0]]\n",
    "img4_X_train = X_train[np.where(y_train == 4)[0]]\n",
    "\n",
    "print(\"Shape of X_train :\",img2_X_train.shape)\n",
    "print(\"Shape of y_train :\",img4_X_train.shape)\n"
   ]
  },
  {
   "cell_type": "markdown",
   "metadata": {},
   "source": [
    "Expected Output <br>\n",
    "- Shape of X_train : (250, 256) <br>\n",
    "- Shape of y_train : (250, 256)\n"
   ]
  },
  {
   "cell_type": "markdown",
   "metadata": {},
   "source": [
    "##### Testing Data"
   ]
  },
  {
   "cell_type": "code",
   "execution_count": 17,
   "metadata": {},
   "outputs": [
    {
     "name": "stdout",
     "output_type": "stream",
     "text": [
      "Shape of img2_X_test: (50, 256)\n",
      "Shape of img4_X_test: (50, 256)\n"
     ]
    }
   ],
   "source": [
    "# Your code here\n",
    "import numpy as np\n",
    "\n",
    "X_test = np.loadtxt(\"testX.txt\")\n",
    "y_test = np.loadtxt(\"testY.txt\")\n",
    "\n",
    "img2_indices = np.where(y_test == 2)[0]\n",
    "img4_indices = np.where(y_test == 4)[0]\n",
    "\n",
    "img2_X_test = X_test[img2_indices]\n",
    "img4_X_test = X_test[img4_indices]\n",
    "\n",
    "print(\"Shape of img2_X_test:\", img2_X_test.shape)\n",
    "print(\"Shape of img4_X_test:\", img4_X_test.shape)\n",
    "\n",
    "sPoints = X_test.shape[0]\n"
   ]
  },
  {
   "cell_type": "markdown",
   "metadata": {},
   "source": [
    "Expected Output <br>\n",
    "- Shape of X_train : (50, 256) <br>\n",
    "- Shape of y_train : (50, 256)\n"
   ]
  },
  {
   "cell_type": "markdown",
   "metadata": {},
   "source": [
    "### Finding the Probabilities"
   ]
  },
  {
   "cell_type": "markdown",
   "metadata": {},
   "source": [
    "### Training Data"
   ]
  },
  {
   "cell_type": "markdown",
   "metadata": {},
   "source": [
    "##### Probabailty of 1s and 0s"
   ]
  },
  {
   "cell_type": "code",
   "execution_count": 23,
   "metadata": {},
   "outputs": [
    {
     "name": "stdout",
     "output_type": "stream",
     "text": [
      "Shape of img2_one_prob: (256,)\n",
      "Shape of img2_zero_prob: (256,)\n",
      "Shape of img4_one_prob: (256,)\n",
      "Shape of img4_zero_prob: (256,)\n"
     ]
    }
   ],
   "source": [
    "import numpy as np\n",
    "\n",
    "# Computing number of ones in img2_array\n",
    "img2_one_count = np.sum(img2_X_train == 1, axis=0)\n",
    "\n",
    "# Computing number of zeros in img2_array by subtracting number of ones from total number of rows\n",
    "img2_zero_count = img2_X_train.shape[0] - img2_one_count\n",
    "\n",
    "# Computing number of ones in img4_array\n",
    "img4_one_count = np.sum(img4_X_train == 1, axis=0)\n",
    "\n",
    "# Computing number of zeros in img4_array by subtracting number of ones from total number of rows\n",
    "img4_zero_count = img4_X_train.shape[0] - img4_one_count\n",
    "\n",
    "# Computing probability of 1|2\n",
    "img2_one_prob = img2_one_count / img2_X_train.shape[0]\n",
    "\n",
    "# Computing probability of 0|2\n",
    "img2_zero_prob = img2_zero_count / img2_X_train.shape[0]\n",
    "\n",
    "# Computing probability of 1|4\n",
    "img4_one_prob = img4_one_count / img4_X_train.shape[0]\n",
    "\n",
    "# Computing probability of 0|4\n",
    "img4_zero_prob = img4_zero_count / img4_X_train.shape[0]\n",
    "\n",
    "print(\"Shape of img2_one_prob:\", img2_one_prob.shape)\n",
    "print(\"Shape of img2_zero_prob:\", img2_zero_prob.shape)\n",
    "print(\"Shape of img4_one_prob:\", img4_one_prob.shape)\n",
    "print(\"Shape of img4_zero_prob:\", img4_zero_prob.shape)\n"
   ]
  },
  {
   "cell_type": "markdown",
   "metadata": {},
   "source": [
    "Expected Output <br>\n",
    "- (256,)\n",
    "- (256,)\n",
    "- (256,)\n",
    "- (256,)\n"
   ]
  },
  {
   "cell_type": "markdown",
   "metadata": {},
   "source": [
    "#### Class Probabilities"
   ]
  },
  {
   "cell_type": "code",
   "execution_count": 25,
   "metadata": {},
   "outputs": [
    {
     "name": "stdout",
     "output_type": "stream",
     "text": [
      "Class 2 Probability: 0.5\n",
      "Class 4 Probability: 0.5\n"
     ]
    }
   ],
   "source": [
    "# Your code here\n",
    "class_2_count = np.sum(y_train == 2)\n",
    "class_2_prob = class_2_count / y_train.shape[0]\n",
    "class_4_prob = 1 - class_2_prob\n",
    "\n",
    "print(\"Class 2 Probability:\", class_2_prob)\n",
    "print(\"Class 4 Probability:\", class_4_prob)\n"
   ]
  },
  {
   "cell_type": "markdown",
   "metadata": {},
   "source": [
    "#### Predictions"
   ]
  },
  {
   "cell_type": "code",
   "execution_count": 30,
   "metadata": {},
   "outputs": [],
   "source": [
    "predictions = np.ones((500))#array for storing predictions\n",
    "for i in range(500):\n",
    "    prob_yes = 1\n",
    "    prob_no = 1\n",
    "    for j in range(256):\n",
    "        if X_train[i][j] == 1:\n",
    "            prob_yes = img2_one_prob[j]*prob_yes;\n",
    "            prob_no  = img4_one_prob[j]*prob_no;\n",
    "        else:\n",
    "            prob_yes = img2_zero_prob[j]*prob_yes;\n",
    "            prob_no  = img4_zero_prob[j]*prob_no;\n",
    "    prob_yes = prob_yes * class_2_prob;\n",
    "    prob_no = prob_no * class_4_prob;\n",
    "    if (prob_yes>prob_no):\n",
    "        predictions[i] = 2\n",
    "    else:\n",
    "        predictions[i] = 4"
   ]
  },
  {
   "cell_type": "markdown",
   "metadata": {},
   "source": [
    "#### Overall Accuracy"
   ]
  },
  {
   "cell_type": "code",
   "execution_count": 31,
   "metadata": {},
   "outputs": [
    {
     "name": "stdout",
     "output_type": "stream",
     "text": [
      "Confusion Matrix:\n",
      "[[249.   1.]\n",
      " [  2. 248.]]\n",
      "Overall Efficiency: 0.994\n"
     ]
    }
   ],
   "source": [
    "# Your code here\n",
    "\n",
    "true_labels = y_train\n",
    "predicted_labels = predictions\n",
    "\n",
    "# Create a list of unique class labels\n",
    "unique_labels = np.unique(true_labels)\n",
    "\n",
    "# Initialize the confusion matrix with zeros\n",
    "confusion_matrix = np.zeros((len(unique_labels), len(unique_labels)))\n",
    "\n",
    "for true_label, predicted_label in zip(true_labels, predicted_labels):\n",
    "    # Find the indices corresponding to the true and predicted labels\n",
    "    true_index = np.where(unique_labels == true_label)[0]\n",
    "    predicted_index = np.where(unique_labels == predicted_label)[0]\n",
    "\n",
    "    # Increment the confusion matrix entry for the corresponding indices\n",
    "    confusion_matrix[true_index, predicted_index] += 1\n",
    "\n",
    "# Calculate the overall efficiency\n",
    "overall_efficiency = np.sum(np.diag(confusion_matrix)) / np.sum(confusion_matrix)\n",
    "\n",
    "print(\"Confusion Matrix:\")\n",
    "print(confusion_matrix)\n",
    "print(\"Overall Efficiency:\", overall_efficiency)"
   ]
  },
  {
   "cell_type": "markdown",
   "metadata": {},
   "source": [
    "Expected Output \n",
    "<br><br>\n",
    "**Confusion Matrix**\n",
    "<br>\n",
    "TP =  248 \tFP =  4\n",
    "<br>\n",
    "FN =  2 \tTN =  246\n",
    "<br>\n",
    "- Overall Accuracy =  0.988"
   ]
  },
  {
   "cell_type": "markdown",
   "metadata": {},
   "source": [
    "#### Classwise Accuracy"
   ]
  },
  {
   "cell_type": "code",
   "execution_count": 35,
   "metadata": {},
   "outputs": [
    {
     "name": "stdout",
     "output_type": "stream",
     "text": [
      "Total accuracy of Training data given class 2:  0.996\n",
      "Total accuracy of Training data given class 4:  0.992\n"
     ]
    }
   ],
   "source": [
    "# Your code here\n",
    "\n",
    "true_labels = y_train\n",
    "predicted_labels = predictions\n",
    "\n",
    "class2_indices = np.where(true_labels == 2)[0]\n",
    "class4_indices = np.where(true_labels == 4)[0]\n",
    "\n",
    "class2_correct = np.sum(predicted_labels[class2_indices] == 2)\n",
    "class4_correct = np.sum(predicted_labels[class4_indices] == 4)\n",
    "\n",
    "class2_total = len(class2_indices)\n",
    "class4_total = len(class4_indices)\n",
    "\n",
    "class2_train_total_accuracy = class2_correct / class2_total\n",
    "class4_train_total_accuracy = class4_correct / class4_total\n",
    "\n",
    "print(\"Total accuracy of Training data given class 2: \", class2_train_total_accuracy)\n",
    "print(\"Total accuracy of Training data given class 4: \", class4_train_total_accuracy)\n"
   ]
  },
  {
   "cell_type": "markdown",
   "metadata": {},
   "source": [
    "Expected Output <br>\n",
    "\n",
    "- Total accuracy of Training data given class 2:  0.984\n",
    "<br>\n",
    "- Total accuracy of Training data given class 4:  0.992"
   ]
  },
  {
   "cell_type": "markdown",
   "metadata": {},
   "source": [
    "### FOR TESTING DATA"
   ]
  },
  {
   "cell_type": "markdown",
   "metadata": {},
   "source": [
    "##### Probabailty of 1s and 0s"
   ]
  },
  {
   "cell_type": "code",
   "execution_count": 36,
   "metadata": {},
   "outputs": [
    {
     "name": "stdout",
     "output_type": "stream",
     "text": [
      "Shape of img2_one_prob: (256,)\n",
      "Shape of img2_zero_prob: (256,)\n",
      "Shape of img4_one_prob: (256,)\n",
      "Shape of img4_zero_prob: (256,)\n"
     ]
    }
   ],
   "source": [
    "img2_one_prob = np.mean(img2_X_test, axis=0)\n",
    "img2_zero_prob = 1 - img2_one_prob\n",
    "img4_one_prob = np.mean(img4_X_test, axis=0)\n",
    "img4_zero_prob = 1 - img4_one_prob\n",
    "\n",
    "print(\"Shape of img2_one_prob:\", img2_one_prob.shape)\n",
    "print(\"Shape of img2_zero_prob:\", img2_zero_prob.shape)\n",
    "print(\"Shape of img4_one_prob:\", img4_one_prob.shape)\n",
    "print(\"Shape of img4_zero_prob:\", img4_zero_prob.shape)\n"
   ]
  },
  {
   "cell_type": "markdown",
   "metadata": {},
   "source": [
    "#### Class Probabilities"
   ]
  },
  {
   "cell_type": "code",
   "execution_count": 40,
   "metadata": {},
   "outputs": [
    {
     "name": "stdout",
     "output_type": "stream",
     "text": [
      "Probability of class 2: 0.5\n",
      "Probability of class 4: 0.5\n"
     ]
    }
   ],
   "source": [
    "# your code here\n",
    "class_2_count = np.sum(y_test == 2)\n",
    "class_2_prob = class_2_count / len(y_test)\n",
    "class_4_prob = 1 - class_2_prob\n",
    "\n",
    "print(\"Probability of class 2:\", class_2_prob)\n",
    "print(\"Probability of class 4:\", class_4_prob)"
   ]
  },
  {
   "cell_type": "markdown",
   "metadata": {},
   "source": [
    "#### Predictions"
   ]
  },
  {
   "cell_type": "code",
   "execution_count": 41,
   "metadata": {},
   "outputs": [],
   "source": [
    "# your code here\n",
    "\n",
    "predictions = np.ones((100))  # array for storing predictions\n",
    "\n",
    "for i in range(100):\n",
    "    prob_2 = np.prod(img2_one_prob[X_test[i] == 1]) * np.prod(img2_zero_prob[X_test[i] == 0]) * class_2_prob\n",
    "    prob_4 = np.prod(img4_one_prob[X_test[i] == 1]) * np.prod(img4_zero_prob[X_test[i] == 0]) * class_4_prob\n",
    "    \n",
    "    if prob_2 > prob_4:\n",
    "        predictions[i] = 2\n",
    "    else:\n",
    "        predictions[i] = 4\n"
   ]
  },
  {
   "cell_type": "markdown",
   "metadata": {},
   "source": [
    "#### Classwise Accuracy"
   ]
  },
  {
   "cell_type": "code",
   "execution_count": 43,
   "metadata": {},
   "outputs": [
    {
     "name": "stdout",
     "output_type": "stream",
     "text": [
      "Total accuracy of Testing data given class 2:  1.0\n",
      "Total accuracy of Testing data given class 4:  1.0\n"
     ]
    }
   ],
   "source": [
    "# your code here\n",
    "\n",
    "true_labels = y_test\n",
    "confusion_matrix = np.zeros((2, 2))  # Initialize the confusion matrix with zeros\n",
    "\n",
    "for i in range(100):\n",
    "    true_label = true_labels[i]\n",
    "    predicted_label = predictions[i]\n",
    "\n",
    "    # Update the confusion matrix based on the true and predicted labels\n",
    "    if true_label == 2:\n",
    "        if predicted_label == 2:\n",
    "            confusion_matrix[0, 0] += 1\n",
    "        else:\n",
    "            confusion_matrix[0, 1] += 1\n",
    "    else:\n",
    "        if predicted_label == 2:\n",
    "            confusion_matrix[1, 0] += 1\n",
    "        else:\n",
    "            confusion_matrix[1, 1] += 1\n",
    "\n",
    "class2_test_total_accuracy = confusion_matrix[0, 0] / np.sum(confusion_matrix[0, :])\n",
    "class4_test_total_accuracy = confusion_matrix[1, 1] / np.sum(confusion_matrix[1, :])\n",
    "\n",
    "print(\"Total accuracy of Testing data given class 2: \", class2_test_total_accuracy)\n",
    "print(\"Total accuracy of Testing data given class 4: \", class4_test_total_accuracy)\n"
   ]
  },
  {
   "cell_type": "markdown",
   "metadata": {},
   "source": [
    "Expected Output <br>\n",
    "\n",
    "- Total accuracy of Testing data given class 2:  1.0\n",
    "<br>\n",
    "- Total accuracy of Testing data given class 4:  1.0"
   ]
  },
  {
   "cell_type": "markdown",
   "metadata": {},
   "source": [
    "#### Overall Accuracy"
   ]
  },
  {
   "cell_type": "code",
   "execution_count": 45,
   "metadata": {},
   "outputs": [
    {
     "name": "stdout",
     "output_type": "stream",
     "text": [
      "Confusion Matrix:\n",
      "[[50.  0.]\n",
      " [ 0. 50.]]\n",
      "Overall Efficiency: 1.0\n"
     ]
    }
   ],
   "source": [
    "# your code here \n",
    "overall_efficiency = np.sum(np.diag(confusion_matrix)) / np.sum(confusion_matrix)\n",
    "print(\"Confusion Matrix:\")\n",
    "print(confusion_matrix)\n",
    "print(\"Overall Accuracy:\", overall_efficiency)"
   ]
  },
  {
   "cell_type": "markdown",
   "metadata": {},
   "source": [
    "Expected Output \n",
    "<br><br>\n",
    "**Confusion Matrix**\n",
    "<br>\n",
    "TP =  50 \tFP =  0\n",
    "<br>\n",
    "FN =  0 \tTN =  50\n",
    "<br>\n",
    "- Overall Accuracy =  1.0"
   ]
  },
  {
   "cell_type": "markdown",
   "metadata": {},
   "source": [
    "### Plot your Test pixels/features in form of image to correctly identify whether our model is giving correct results"
   ]
  },
  {
   "cell_type": "markdown",
   "metadata": {},
   "source": [
    "2 plots for each class"
   ]
  },
  {
   "cell_type": "code",
   "execution_count": 54,
   "metadata": {},
   "outputs": [
    {
     "data": {
      "image/png": "[encoded data removed]",
      "text/plain": [
       "<Figure size 432x288 with 2 Axes>"
      ]
     },
     "metadata": {
      "needs_background": "light"
     },
     "output_type": "display_data"
    }
   ],
   "source": [
    "img = img2_X_test[0,:]\n",
    "img = np.reshape(img.astype(np.uint8),(16,16),order= 'F')\n",
    "img1 = img2_X_test[45,:]\n",
    "img1 = np.reshape(img1.astype(np.uint8),(16,16),order= 'F')\n",
    "fig, axes = plt.subplots(1, 2)\n",
    "axes[0].imshow(img)\n",
    "axes[0].set_title('Image of 2')\n",
    "axes[1].imshow(img1)\n",
    "axes[1].set_title('Image of 2')\n",
    "\n",
    "plt.tight_layout()\n",
    "\n",
    "plt.show()"
   ]
  },
  {
   "cell_type": "code",
   "execution_count": 56,
   "metadata": {},
   "outputs": [
    {
     "data": {
      "image/png": "[encoded data removed]",
      "text/plain": [
       "<Figure size 432x288 with 2 Axes>"
      ]
     },
     "metadata": {
      "needs_background": "light"
     },
     "output_type": "display_data"
    }
   ],
   "source": [
    "img = img4_X_test[0,:]\n",
    "img = np.reshape(img.astype(np.uint8),(16,16),order= 'F')\n",
    "img1 = img4_X_test[45,:]\n",
    "img1 = np.reshape(img1.astype(np.uint8),(16,16),order= 'F')\n",
    "fig, axes = plt.subplots(1, 2)\n",
    "axes[0].imshow(img)\n",
    "axes[0].set_title('Image of 4')\n",
    "axes[1].imshow(img1)\n",
    "axes[1].set_title('Image of 4')\n",
    "plt.tight_layout()\n",
    "plt.show()"
   ]
  },
  {
   "cell_type": "markdown",
   "metadata": {},
   "source": [
    "Your Oppinion on the results about why naive bayes worked well for  this OCR\n",
    "and give one example where naive bayes can not be used\n"
   ]
  },
  {
   "cell_type": "markdown",
   "metadata": {},
   "source": [
    "Solution :"
   ]
  },
  {
   "cell_type": "markdown",
   "metadata": {},
   "source": [
    "Naive Bayes proves to be a reliable technique for this OCR task due to its efficient performance and ability to handle diverse features. It excels in filtering out irrelevant details and focusing on the essential aspects. In this OCR, Naive Bayes benefited from an ample number of training examples and the relatively low-dimensional nature of the images, minimizing the impact of noise. Consequently, Naive Bayes demonstrated its effectiveness in this particular OCR application. Nonetheless, it is important to acknowledge the limitations of Naive Bayes. Its assumption of feature independence may hinder its understanding of intricate relationships between different character aspects. This can pose challenges when crucial details, such as pixel arrangements or shapes, significantly influence accurate OCR outcomes. In such scenarios, Naive Bayes may yield erroneous results."
   ]
  }
 ],
 "metadata": {
  "kernelspec": {
   "display_name": "Python 3",
   "language": "python",
   "name": "python3"
  },
  "language_info": {
   "codemirror_mode": {
    "name": "ipython",
    "version": 3
   },
   "file_extension": ".py",
   "mimetype": "text/x-python",
   "name": "python",
   "nbconvert_exporter": "python",
   "pygments_lexer": "ipython3",
   "version": "3.8.5"
  }
 },
 "nbformat": 4,
 "nbformat_minor": 2
}
