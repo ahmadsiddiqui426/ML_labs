{
 "cells": [
  {
   "cell_type": "code",
   "execution_count": 8,
   "metadata": {},
   "outputs": [
    {
     "name": "stdout",
     "output_type": "stream",
     "text": [
      "Linear Kernel Accuracy: 1.0\n"
     ]
    }
   ],
   "source": [
    "from sklearn import svm\n",
    "from sklearn.datasets import load_iris\n",
    "from sklearn.model_selection import train_test_split\n",
    "import pandas as pd\n",
    "\n",
    "# Load Iris dataset\n",
    "iris = load_iris()\n",
    "X = iris.data\n",
    "y = iris.target\n",
    "\n",
    "# Split the data into training and testing sets\n",
    "X_train, X_test, y_train, y_test = train_test_split(X, y, test_size=0.2, random_state=42)\n",
    "\n",
    "# Create a linear SVM classifier\n",
    "linear_svm = svm.SVC(kernel='linear')\n",
    "\n",
    "# Fit the classifier to the training data\n",
    "linear_svm.fit(X_train, y_train)\n",
    "\n",
    "# Evaluate the classifier on the testing data\n",
    "accuracy = linear_svm.score(X_test, y_test)\n",
    "print(\"Linear Kernel Accuracy:\", accuracy)\n"
   ]
  },
  {
   "cell_type": "code",
   "execution_count": 9,
   "metadata": {},
   "outputs": [
    {
     "name": "stdout",
     "output_type": "stream",
     "text": [
      "RBF Kernel Accuracy: 1.0\n"
     ]
    }
   ],
   "source": [
    "# Create an RBF SVM classifier\n",
    "rbf_svm = svm.SVC(kernel='rbf')\n",
    "\n",
    "# Fit the classifier to the training data\n",
    "rbf_svm.fit(X_train, y_train)\n",
    "\n",
    "# Evaluate the classifier on the testing data\n",
    "accuracy = rbf_svm.score(X_test, y_test)\n",
    "print(\"RBF Kernel Accuracy:\", accuracy)\n"
   ]
  },
  {
   "cell_type": "code",
   "execution_count": 10,
   "metadata": {},
   "outputs": [
    {
     "name": "stdout",
     "output_type": "stream",
     "text": [
      "Polynomial Kernel Accuracy: 1.0\n"
     ]
    }
   ],
   "source": [
    "# Create a polynomial SVM classifier\n",
    "poly_svm = svm.SVC(kernel='poly', degree=3)  # You can change the degree as desired\n",
    "\n",
    "# Fit the classifier to the training data\n",
    "poly_svm.fit(X_train, y_train)\n",
    "\n",
    "# Evaluate the classifier on the testing data\n",
    "accuracy = poly_svm.score(X_test, y_test)\n",
    "print(\"Polynomial Kernel Accuracy:\", accuracy)\n"
   ]
  },
  {
   "cell_type": "code",
   "execution_count": 16,
   "metadata": {},
   "outputs": [
    {
     "name": "stdout",
     "output_type": "stream",
     "text": [
      "Linear Kernel Score: 0.25503142118095123\n"
     ]
    }
   ],
   "source": [
    "# Load Housing Price dataset from CSV\n",
    "housing_data = pd.read_csv(\"Housing.csv\")\n",
    "\n",
    "# Separate features (X) and target variable (y)\n",
    "X = housing_data.drop(\"price\", axis=1)  # Replace \"target_variable_column_name\" with the actual column name\n",
    "y = housing_data[\"price\"]  # Replace \"target_variable_column_name\" with the actual column name\n",
    "\n",
    "# Split the data into training and testing sets\n",
    "X_train, X_test, y_train, y_test = train_test_split(X, y, test_size=0.2, random_state=42)\n",
    "\n",
    "# Create a linear SVM regression model\n",
    "linear_svm = svm.SVR(kernel='linear')\n",
    "\n",
    "# Fit the model to the training data\n",
    "linear_svm.fit(X_train, y_train)\n",
    "\n",
    "# Evaluate the model on the testing data\n",
    "score = linear_svm.score(X_test, y_test)\n",
    "print(\"Linear Kernel Score:\", score)\n"
   ]
  },
  {
   "cell_type": "code",
   "execution_count": 17,
   "metadata": {},
   "outputs": [
    {
     "name": "stdout",
     "output_type": "stream",
     "text": [
      "RBF Kernel Score: -0.10156270233534426\n"
     ]
    }
   ],
   "source": [
    "# Create an RBF SVM regression model\n",
    "rbf_svm = svm.SVR(kernel='rbf')\n",
    "\n",
    "# Fit the model to the training data\n",
    "rbf_svm.fit(X_train, y_train)\n",
    "\n",
    "# Evaluate the model on the testing data\n",
    "score = rbf_svm.score(X_test, y_test)\n",
    "print(\"RBF Kernel Score:\", score)\n"
   ]
  },
  {
   "cell_type": "code",
   "execution_count": 18,
   "metadata": {},
   "outputs": [
    {
     "name": "stdout",
     "output_type": "stream",
     "text": [
      "Polynomial Kernel Score: -0.10152941867377097\n"
     ]
    }
   ],
   "source": [
    "# Create a polynomial SVM regression model\n",
    "poly_svm = svm.SVR(kernel='poly', degree=3)  # You can change the degree as desired\n",
    "\n",
    "# Fit the model to the training data\n",
    "poly_svm.fit(X_train, y_train)\n",
    "\n",
    "# Evaluate the model on the testing data\n",
    "score = poly_svm.score(X_test, y_test)\n",
    "print(\"Polynomial Kernel Score:\", score)\n"
   ]
  },
  {
   "cell_type": "code",
   "execution_count": null,
   "metadata": {},
   "outputs": [],
   "source": []
  }
 ],
 "metadata": {
  "kernelspec": {
   "display_name": "Python 3",
   "language": "python",
   "name": "python3"
  },
  "language_info": {
   "codemirror_mode": {
    "name": "ipython",
    "version": 3
   },
   "file_extension": ".py",
   "mimetype": "text/x-python",
   "name": "python",
   "nbconvert_exporter": "python",
   "pygments_lexer": "ipython3",
   "version": "3.8.5"
  }
 },
 "nbformat": 4,
 "nbformat_minor": 5
}
